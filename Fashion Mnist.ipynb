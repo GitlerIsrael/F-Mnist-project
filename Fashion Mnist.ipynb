{
 "cells": [
  {
   "cell_type": "code",
   "execution_count": 1,
   "id": "5ec022b3",
   "metadata": {},
   "outputs": [],
   "source": [
    "import pandas as pd\n",
    "import numpy as np\n",
    "import matplotlib.pyplot as plt\n",
    "import matplotlib as mpl\n",
    "\n",
    "from sklearn.neighbors import KNeighborsClassifier\n",
    "from sklearn.model_selection import GridSearchCV\n",
    "from sklearn.ensemble import RandomForestClassifier\n",
    "from sklearn.model_selection import cross_val_score\n",
    "from sklearn.pipeline import Pipeline\n",
    "from sklearn.cluster import KMeans\n",
    "from sklearn.naive_bayes import GaussianNB \n",
    "from sklearn import model_selection\n",
    "from sklearn.ensemble import VotingClassifier\n",
    "from sklearn.ensemble import AdaBoostClassifier\n",
    "from sklearn.tree import DecisionTreeClassifier\n",
    "from sklearn.decomposition import PCA\n",
    "\n",
    "\n",
    "%matplotlib inline"
   ]
  },
  {
   "cell_type": "markdown",
   "id": "46c73030",
   "metadata": {},
   "source": [
    "## Impotring and preprocessing the data"
   ]
  },
  {
   "cell_type": "code",
   "execution_count": 6,
   "id": "7b105247",
   "metadata": {},
   "outputs": [
    {
     "data": {
      "text/html": [
       "<div>\n",
       "<style scoped>\n",
       "    .dataframe tbody tr th:only-of-type {\n",
       "        vertical-align: middle;\n",
       "    }\n",
       "\n",
       "    .dataframe tbody tr th {\n",
       "        vertical-align: top;\n",
       "    }\n",
       "\n",
       "    .dataframe thead th {\n",
       "        text-align: right;\n",
       "    }\n",
       "</style>\n",
       "<table border=\"1\" class=\"dataframe\">\n",
       "  <thead>\n",
       "    <tr style=\"text-align: right;\">\n",
       "      <th></th>\n",
       "      <th>label</th>\n",
       "      <th>pixel1</th>\n",
       "      <th>pixel2</th>\n",
       "      <th>pixel3</th>\n",
       "      <th>pixel4</th>\n",
       "      <th>pixel5</th>\n",
       "      <th>pixel6</th>\n",
       "      <th>pixel7</th>\n",
       "      <th>pixel8</th>\n",
       "      <th>pixel9</th>\n",
       "      <th>...</th>\n",
       "      <th>pixel775</th>\n",
       "      <th>pixel776</th>\n",
       "      <th>pixel777</th>\n",
       "      <th>pixel778</th>\n",
       "      <th>pixel779</th>\n",
       "      <th>pixel780</th>\n",
       "      <th>pixel781</th>\n",
       "      <th>pixel782</th>\n",
       "      <th>pixel783</th>\n",
       "      <th>pixel784</th>\n",
       "    </tr>\n",
       "  </thead>\n",
       "  <tbody>\n",
       "    <tr>\n",
       "      <th>0</th>\n",
       "      <td>2</td>\n",
       "      <td>0</td>\n",
       "      <td>0</td>\n",
       "      <td>0</td>\n",
       "      <td>0</td>\n",
       "      <td>0</td>\n",
       "      <td>0</td>\n",
       "      <td>0</td>\n",
       "      <td>0</td>\n",
       "      <td>0</td>\n",
       "      <td>...</td>\n",
       "      <td>0</td>\n",
       "      <td>0</td>\n",
       "      <td>0</td>\n",
       "      <td>0</td>\n",
       "      <td>0</td>\n",
       "      <td>0</td>\n",
       "      <td>0</td>\n",
       "      <td>0</td>\n",
       "      <td>0</td>\n",
       "      <td>0</td>\n",
       "    </tr>\n",
       "    <tr>\n",
       "      <th>1</th>\n",
       "      <td>9</td>\n",
       "      <td>0</td>\n",
       "      <td>0</td>\n",
       "      <td>0</td>\n",
       "      <td>0</td>\n",
       "      <td>0</td>\n",
       "      <td>0</td>\n",
       "      <td>0</td>\n",
       "      <td>0</td>\n",
       "      <td>0</td>\n",
       "      <td>...</td>\n",
       "      <td>0</td>\n",
       "      <td>0</td>\n",
       "      <td>0</td>\n",
       "      <td>0</td>\n",
       "      <td>0</td>\n",
       "      <td>0</td>\n",
       "      <td>0</td>\n",
       "      <td>0</td>\n",
       "      <td>0</td>\n",
       "      <td>0</td>\n",
       "    </tr>\n",
       "    <tr>\n",
       "      <th>2</th>\n",
       "      <td>6</td>\n",
       "      <td>0</td>\n",
       "      <td>0</td>\n",
       "      <td>0</td>\n",
       "      <td>0</td>\n",
       "      <td>0</td>\n",
       "      <td>0</td>\n",
       "      <td>0</td>\n",
       "      <td>5</td>\n",
       "      <td>0</td>\n",
       "      <td>...</td>\n",
       "      <td>0</td>\n",
       "      <td>0</td>\n",
       "      <td>0</td>\n",
       "      <td>30</td>\n",
       "      <td>43</td>\n",
       "      <td>0</td>\n",
       "      <td>0</td>\n",
       "      <td>0</td>\n",
       "      <td>0</td>\n",
       "      <td>0</td>\n",
       "    </tr>\n",
       "    <tr>\n",
       "      <th>3</th>\n",
       "      <td>0</td>\n",
       "      <td>0</td>\n",
       "      <td>0</td>\n",
       "      <td>0</td>\n",
       "      <td>1</td>\n",
       "      <td>2</td>\n",
       "      <td>0</td>\n",
       "      <td>0</td>\n",
       "      <td>0</td>\n",
       "      <td>0</td>\n",
       "      <td>...</td>\n",
       "      <td>3</td>\n",
       "      <td>0</td>\n",
       "      <td>0</td>\n",
       "      <td>0</td>\n",
       "      <td>0</td>\n",
       "      <td>1</td>\n",
       "      <td>0</td>\n",
       "      <td>0</td>\n",
       "      <td>0</td>\n",
       "      <td>0</td>\n",
       "    </tr>\n",
       "    <tr>\n",
       "      <th>4</th>\n",
       "      <td>3</td>\n",
       "      <td>0</td>\n",
       "      <td>0</td>\n",
       "      <td>0</td>\n",
       "      <td>0</td>\n",
       "      <td>0</td>\n",
       "      <td>0</td>\n",
       "      <td>0</td>\n",
       "      <td>0</td>\n",
       "      <td>0</td>\n",
       "      <td>...</td>\n",
       "      <td>0</td>\n",
       "      <td>0</td>\n",
       "      <td>0</td>\n",
       "      <td>0</td>\n",
       "      <td>0</td>\n",
       "      <td>0</td>\n",
       "      <td>0</td>\n",
       "      <td>0</td>\n",
       "      <td>0</td>\n",
       "      <td>0</td>\n",
       "    </tr>\n",
       "  </tbody>\n",
       "</table>\n",
       "<p>5 rows × 785 columns</p>\n",
       "</div>"
      ],
      "text/plain": [
       "   label  pixel1  pixel2  pixel3  pixel4  pixel5  pixel6  pixel7  pixel8  \\\n",
       "0      2       0       0       0       0       0       0       0       0   \n",
       "1      9       0       0       0       0       0       0       0       0   \n",
       "2      6       0       0       0       0       0       0       0       5   \n",
       "3      0       0       0       0       1       2       0       0       0   \n",
       "4      3       0       0       0       0       0       0       0       0   \n",
       "\n",
       "   pixel9  ...  pixel775  pixel776  pixel777  pixel778  pixel779  pixel780  \\\n",
       "0       0  ...         0         0         0         0         0         0   \n",
       "1       0  ...         0         0         0         0         0         0   \n",
       "2       0  ...         0         0         0        30        43         0   \n",
       "3       0  ...         3         0         0         0         0         1   \n",
       "4       0  ...         0         0         0         0         0         0   \n",
       "\n",
       "   pixel781  pixel782  pixel783  pixel784  \n",
       "0         0         0         0         0  \n",
       "1         0         0         0         0  \n",
       "2         0         0         0         0  \n",
       "3         0         0         0         0  \n",
       "4         0         0         0         0  \n",
       "\n",
       "[5 rows x 785 columns]"
      ]
     },
     "execution_count": 6,
     "metadata": {},
     "output_type": "execute_result"
    }
   ],
   "source": [
    "train_set = pd.read_csv(\"C:/Users/Israel Gitler/Desktop/F-Mnist/archive/fashion-mnist_train.csv\")\n",
    "train_set.head()"
   ]
  },
  {
   "cell_type": "code",
   "execution_count": 9,
   "id": "c57e00a5",
   "metadata": {},
   "outputs": [],
   "source": [
    "test_set = pd.read_csv(\"C:/Users/Israel Gitler/Desktop/F-Mnist/archive/fashion-mnist_test.csv\")\n"
   ]
  },
  {
   "cell_type": "code",
   "execution_count": 10,
   "id": "f512c69f",
   "metadata": {},
   "outputs": [
    {
     "name": "stdout",
     "output_type": "stream",
     "text": [
      "<class 'pandas.core.frame.DataFrame'>\n",
      "RangeIndex: 60000 entries, 0 to 59999\n",
      "Columns: 785 entries, label to pixel784\n",
      "dtypes: int64(785)\n",
      "memory usage: 359.3 MB\n"
     ]
    }
   ],
   "source": [
    "train_set.info()"
   ]
  },
  {
   "cell_type": "markdown",
   "id": "e6be761e",
   "metadata": {},
   "source": [
    "### Let's look on how many different labels we have"
   ]
  },
  {
   "cell_type": "code",
   "execution_count": 11,
   "id": "f123df80",
   "metadata": {},
   "outputs": [
    {
     "data": {
      "text/plain": [
       "2    6000\n",
       "9    6000\n",
       "6    6000\n",
       "0    6000\n",
       "3    6000\n",
       "4    6000\n",
       "5    6000\n",
       "8    6000\n",
       "7    6000\n",
       "1    6000\n",
       "Name: label, dtype: int64"
      ]
     },
     "execution_count": 11,
     "metadata": {},
     "output_type": "execute_result"
    }
   ],
   "source": [
    "train_set['label'].value_counts()"
   ]
  },
  {
   "cell_type": "markdown",
   "id": "8c5b6021",
   "metadata": {},
   "source": [
    "### We can see that we have 10 different labels with the same amount of images- our data is balanced:)"
   ]
  },
  {
   "cell_type": "markdown",
   "id": "b39bd0be",
   "metadata": {},
   "source": [
    "### Splitting the datasets to features(X) and labels(Y)"
   ]
  },
  {
   "cell_type": "code",
   "execution_count": 12,
   "id": "cdcda610",
   "metadata": {
    "scrolled": true
   },
   "outputs": [
    {
     "data": {
      "text/html": [
       "<div>\n",
       "<style scoped>\n",
       "    .dataframe tbody tr th:only-of-type {\n",
       "        vertical-align: middle;\n",
       "    }\n",
       "\n",
       "    .dataframe tbody tr th {\n",
       "        vertical-align: top;\n",
       "    }\n",
       "\n",
       "    .dataframe thead th {\n",
       "        text-align: right;\n",
       "    }\n",
       "</style>\n",
       "<table border=\"1\" class=\"dataframe\">\n",
       "  <thead>\n",
       "    <tr style=\"text-align: right;\">\n",
       "      <th></th>\n",
       "      <th>pixel1</th>\n",
       "      <th>pixel2</th>\n",
       "      <th>pixel3</th>\n",
       "      <th>pixel4</th>\n",
       "      <th>pixel5</th>\n",
       "      <th>pixel6</th>\n",
       "      <th>pixel7</th>\n",
       "      <th>pixel8</th>\n",
       "      <th>pixel9</th>\n",
       "      <th>pixel10</th>\n",
       "      <th>...</th>\n",
       "      <th>pixel775</th>\n",
       "      <th>pixel776</th>\n",
       "      <th>pixel777</th>\n",
       "      <th>pixel778</th>\n",
       "      <th>pixel779</th>\n",
       "      <th>pixel780</th>\n",
       "      <th>pixel781</th>\n",
       "      <th>pixel782</th>\n",
       "      <th>pixel783</th>\n",
       "      <th>pixel784</th>\n",
       "    </tr>\n",
       "  </thead>\n",
       "  <tbody>\n",
       "    <tr>\n",
       "      <th>0</th>\n",
       "      <td>0</td>\n",
       "      <td>0</td>\n",
       "      <td>0</td>\n",
       "      <td>0</td>\n",
       "      <td>0</td>\n",
       "      <td>0</td>\n",
       "      <td>0</td>\n",
       "      <td>0</td>\n",
       "      <td>0</td>\n",
       "      <td>0</td>\n",
       "      <td>...</td>\n",
       "      <td>0</td>\n",
       "      <td>0</td>\n",
       "      <td>0</td>\n",
       "      <td>0</td>\n",
       "      <td>0</td>\n",
       "      <td>0</td>\n",
       "      <td>0</td>\n",
       "      <td>0</td>\n",
       "      <td>0</td>\n",
       "      <td>0</td>\n",
       "    </tr>\n",
       "    <tr>\n",
       "      <th>1</th>\n",
       "      <td>0</td>\n",
       "      <td>0</td>\n",
       "      <td>0</td>\n",
       "      <td>0</td>\n",
       "      <td>0</td>\n",
       "      <td>0</td>\n",
       "      <td>0</td>\n",
       "      <td>0</td>\n",
       "      <td>0</td>\n",
       "      <td>0</td>\n",
       "      <td>...</td>\n",
       "      <td>0</td>\n",
       "      <td>0</td>\n",
       "      <td>0</td>\n",
       "      <td>0</td>\n",
       "      <td>0</td>\n",
       "      <td>0</td>\n",
       "      <td>0</td>\n",
       "      <td>0</td>\n",
       "      <td>0</td>\n",
       "      <td>0</td>\n",
       "    </tr>\n",
       "    <tr>\n",
       "      <th>2</th>\n",
       "      <td>0</td>\n",
       "      <td>0</td>\n",
       "      <td>0</td>\n",
       "      <td>0</td>\n",
       "      <td>0</td>\n",
       "      <td>0</td>\n",
       "      <td>0</td>\n",
       "      <td>5</td>\n",
       "      <td>0</td>\n",
       "      <td>0</td>\n",
       "      <td>...</td>\n",
       "      <td>0</td>\n",
       "      <td>0</td>\n",
       "      <td>0</td>\n",
       "      <td>30</td>\n",
       "      <td>43</td>\n",
       "      <td>0</td>\n",
       "      <td>0</td>\n",
       "      <td>0</td>\n",
       "      <td>0</td>\n",
       "      <td>0</td>\n",
       "    </tr>\n",
       "    <tr>\n",
       "      <th>3</th>\n",
       "      <td>0</td>\n",
       "      <td>0</td>\n",
       "      <td>0</td>\n",
       "      <td>1</td>\n",
       "      <td>2</td>\n",
       "      <td>0</td>\n",
       "      <td>0</td>\n",
       "      <td>0</td>\n",
       "      <td>0</td>\n",
       "      <td>0</td>\n",
       "      <td>...</td>\n",
       "      <td>3</td>\n",
       "      <td>0</td>\n",
       "      <td>0</td>\n",
       "      <td>0</td>\n",
       "      <td>0</td>\n",
       "      <td>1</td>\n",
       "      <td>0</td>\n",
       "      <td>0</td>\n",
       "      <td>0</td>\n",
       "      <td>0</td>\n",
       "    </tr>\n",
       "    <tr>\n",
       "      <th>4</th>\n",
       "      <td>0</td>\n",
       "      <td>0</td>\n",
       "      <td>0</td>\n",
       "      <td>0</td>\n",
       "      <td>0</td>\n",
       "      <td>0</td>\n",
       "      <td>0</td>\n",
       "      <td>0</td>\n",
       "      <td>0</td>\n",
       "      <td>0</td>\n",
       "      <td>...</td>\n",
       "      <td>0</td>\n",
       "      <td>0</td>\n",
       "      <td>0</td>\n",
       "      <td>0</td>\n",
       "      <td>0</td>\n",
       "      <td>0</td>\n",
       "      <td>0</td>\n",
       "      <td>0</td>\n",
       "      <td>0</td>\n",
       "      <td>0</td>\n",
       "    </tr>\n",
       "  </tbody>\n",
       "</table>\n",
       "<p>5 rows × 784 columns</p>\n",
       "</div>"
      ],
      "text/plain": [
       "   pixel1  pixel2  pixel3  pixel4  pixel5  pixel6  pixel7  pixel8  pixel9  \\\n",
       "0       0       0       0       0       0       0       0       0       0   \n",
       "1       0       0       0       0       0       0       0       0       0   \n",
       "2       0       0       0       0       0       0       0       5       0   \n",
       "3       0       0       0       1       2       0       0       0       0   \n",
       "4       0       0       0       0       0       0       0       0       0   \n",
       "\n",
       "   pixel10  ...  pixel775  pixel776  pixel777  pixel778  pixel779  pixel780  \\\n",
       "0        0  ...         0         0         0         0         0         0   \n",
       "1        0  ...         0         0         0         0         0         0   \n",
       "2        0  ...         0         0         0        30        43         0   \n",
       "3        0  ...         3         0         0         0         0         1   \n",
       "4        0  ...         0         0         0         0         0         0   \n",
       "\n",
       "   pixel781  pixel782  pixel783  pixel784  \n",
       "0         0         0         0         0  \n",
       "1         0         0         0         0  \n",
       "2         0         0         0         0  \n",
       "3         0         0         0         0  \n",
       "4         0         0         0         0  \n",
       "\n",
       "[5 rows x 784 columns]"
      ]
     },
     "execution_count": 12,
     "metadata": {},
     "output_type": "execute_result"
    }
   ],
   "source": [
    "y_train= train_set['label']\n",
    "x_train= train_set.drop('label',axis=1)\n",
    "\n",
    "y_test= test_set['label']\n",
    "x_test= test_set.drop('label',axis=1)\n",
    "\n",
    "x_train.head()"
   ]
  },
  {
   "cell_type": "markdown",
   "id": "e69a83cc",
   "metadata": {},
   "source": [
    "## Let's take a look at the first few images:"
   ]
  },
  {
   "cell_type": "code",
   "execution_count": 7,
   "id": "7bff4f47",
   "metadata": {},
   "outputs": [],
   "source": [
    "class_names = ['T-shirt/top', 'Trouser', 'Pullover', 'Dress', 'Coat',\n",
    "               'Sandal', 'Shirt', 'Sneaker', 'Bag', 'Ankle boot']"
   ]
  },
  {
   "cell_type": "code",
   "execution_count": 8,
   "id": "dc0dbdb3",
   "metadata": {},
   "outputs": [
    {
     "data": {
      "image/png": "[encoded data removed]",
      "text/plain": [
       "<Figure size 720x720 with 25 Axes>"
      ]
     },
     "metadata": {},
     "output_type": "display_data"
    }
   ],
   "source": [
    "plt.figure(figsize=(10,10))\n",
    "for i in range(25):\n",
    "    plt.subplot(5,5,i+1)\n",
    "    plt.xticks([])\n",
    "    plt.yticks([])\n",
    "    plt.grid(False)\n",
    "    plt.imshow(x_train.to_numpy()[i].reshape(28, 28), cmap=\"binary\")\n",
    "    plt.xlabel(class_names[y_train[i]])\n",
    "plt.show()"
   ]
  },
  {
   "cell_type": "markdown",
   "id": "5d7bd4c9",
   "metadata": {},
   "source": [
    "# PCA"
   ]
  },
  {
   "cell_type": "code",
   "execution_count": 13,
   "id": "a6b22beb",
   "metadata": {},
   "outputs": [],
   "source": [
    "pca = PCA(n_components = 0.95)\n",
    "x_reduced = pca.fit_transform(x_train)\n",
    "x_recovered = pca.inverse_transform(x_reduced)\n",
    "x_test_reduced = pca.transform(x_test)"
   ]
  },
  {
   "cell_type": "code",
   "execution_count": 14,
   "id": "f4087831",
   "metadata": {
    "scrolled": false
   },
   "outputs": [
    {
     "data": {
      "text/html": [
       "<div>\n",
       "<style scoped>\n",
       "    .dataframe tbody tr th:only-of-type {\n",
       "        vertical-align: middle;\n",
       "    }\n",
       "\n",
       "    .dataframe tbody tr th {\n",
       "        vertical-align: top;\n",
       "    }\n",
       "\n",
       "    .dataframe thead th {\n",
       "        text-align: right;\n",
       "    }\n",
       "</style>\n",
       "<table border=\"1\" class=\"dataframe\">\n",
       "  <thead>\n",
       "    <tr style=\"text-align: right;\">\n",
       "      <th></th>\n",
       "      <th>0</th>\n",
       "      <th>1</th>\n",
       "      <th>2</th>\n",
       "      <th>3</th>\n",
       "      <th>4</th>\n",
       "      <th>5</th>\n",
       "      <th>6</th>\n",
       "      <th>7</th>\n",
       "      <th>8</th>\n",
       "      <th>9</th>\n",
       "      <th>...</th>\n",
       "      <th>177</th>\n",
       "      <th>178</th>\n",
       "      <th>179</th>\n",
       "      <th>180</th>\n",
       "      <th>181</th>\n",
       "      <th>182</th>\n",
       "      <th>183</th>\n",
       "      <th>184</th>\n",
       "      <th>185</th>\n",
       "      <th>186</th>\n",
       "    </tr>\n",
       "  </thead>\n",
       "  <tbody>\n",
       "    <tr>\n",
       "      <th>0</th>\n",
       "      <td>940.014979</td>\n",
       "      <td>1264.934899</td>\n",
       "      <td>-13.064134</td>\n",
       "      <td>-697.003948</td>\n",
       "      <td>99.905650</td>\n",
       "      <td>293.040479</td>\n",
       "      <td>223.353000</td>\n",
       "      <td>654.699441</td>\n",
       "      <td>284.169728</td>\n",
       "      <td>200.495125</td>\n",
       "      <td>...</td>\n",
       "      <td>-42.436469</td>\n",
       "      <td>38.644515</td>\n",
       "      <td>15.974610</td>\n",
       "      <td>-18.360482</td>\n",
       "      <td>-31.716402</td>\n",
       "      <td>-58.744054</td>\n",
       "      <td>-31.525509</td>\n",
       "      <td>17.666469</td>\n",
       "      <td>10.700451</td>\n",
       "      <td>-54.208245</td>\n",
       "    </tr>\n",
       "    <tr>\n",
       "      <th>1</th>\n",
       "      <td>-1115.990760</td>\n",
       "      <td>984.569965</td>\n",
       "      <td>-497.105409</td>\n",
       "      <td>-204.810444</td>\n",
       "      <td>115.129828</td>\n",
       "      <td>-198.891667</td>\n",
       "      <td>-313.694307</td>\n",
       "      <td>258.705462</td>\n",
       "      <td>-360.168936</td>\n",
       "      <td>-251.335571</td>\n",
       "      <td>...</td>\n",
       "      <td>21.729339</td>\n",
       "      <td>51.967370</td>\n",
       "      <td>30.980098</td>\n",
       "      <td>-61.325772</td>\n",
       "      <td>-8.092893</td>\n",
       "      <td>-48.800220</td>\n",
       "      <td>11.925639</td>\n",
       "      <td>-26.394060</td>\n",
       "      <td>-41.801588</td>\n",
       "      <td>-74.007615</td>\n",
       "    </tr>\n",
       "    <tr>\n",
       "      <th>2</th>\n",
       "      <td>1852.613740</td>\n",
       "      <td>400.032947</td>\n",
       "      <td>590.385818</td>\n",
       "      <td>56.610980</td>\n",
       "      <td>267.259426</td>\n",
       "      <td>-296.297905</td>\n",
       "      <td>-272.963581</td>\n",
       "      <td>-76.956373</td>\n",
       "      <td>109.972847</td>\n",
       "      <td>-23.027752</td>\n",
       "      <td>...</td>\n",
       "      <td>-3.820852</td>\n",
       "      <td>44.684383</td>\n",
       "      <td>5.886265</td>\n",
       "      <td>24.918999</td>\n",
       "      <td>35.253455</td>\n",
       "      <td>15.379829</td>\n",
       "      <td>-32.078273</td>\n",
       "      <td>19.471497</td>\n",
       "      <td>23.206138</td>\n",
       "      <td>9.703616</td>\n",
       "    </tr>\n",
       "    <tr>\n",
       "      <th>3</th>\n",
       "      <td>823.085923</td>\n",
       "      <td>-592.940376</td>\n",
       "      <td>-165.572091</td>\n",
       "      <td>306.296837</td>\n",
       "      <td>-69.867933</td>\n",
       "      <td>1012.740395</td>\n",
       "      <td>-133.880739</td>\n",
       "      <td>-34.479930</td>\n",
       "      <td>12.906323</td>\n",
       "      <td>-158.113744</td>\n",
       "      <td>...</td>\n",
       "      <td>55.506988</td>\n",
       "      <td>21.737585</td>\n",
       "      <td>-52.867262</td>\n",
       "      <td>24.045966</td>\n",
       "      <td>-75.577396</td>\n",
       "      <td>11.929428</td>\n",
       "      <td>31.501251</td>\n",
       "      <td>-36.039384</td>\n",
       "      <td>12.481911</td>\n",
       "      <td>57.567270</td>\n",
       "    </tr>\n",
       "    <tr>\n",
       "      <th>4</th>\n",
       "      <td>1057.325178</td>\n",
       "      <td>-1029.965513</td>\n",
       "      <td>-386.387941</td>\n",
       "      <td>-474.653146</td>\n",
       "      <td>143.147534</td>\n",
       "      <td>17.124217</td>\n",
       "      <td>-177.609814</td>\n",
       "      <td>-40.151143</td>\n",
       "      <td>518.806548</td>\n",
       "      <td>-85.716816</td>\n",
       "      <td>...</td>\n",
       "      <td>43.530980</td>\n",
       "      <td>2.660544</td>\n",
       "      <td>-53.363713</td>\n",
       "      <td>19.373099</td>\n",
       "      <td>36.444743</td>\n",
       "      <td>19.966894</td>\n",
       "      <td>26.720703</td>\n",
       "      <td>68.268379</td>\n",
       "      <td>14.564382</td>\n",
       "      <td>-37.426796</td>\n",
       "    </tr>\n",
       "  </tbody>\n",
       "</table>\n",
       "<p>5 rows × 187 columns</p>\n",
       "</div>"
      ],
      "text/plain": [
       "           0            1           2           3           4            5    \\\n",
       "0   940.014979  1264.934899  -13.064134 -697.003948   99.905650   293.040479   \n",
       "1 -1115.990760   984.569965 -497.105409 -204.810444  115.129828  -198.891667   \n",
       "2  1852.613740   400.032947  590.385818   56.610980  267.259426  -296.297905   \n",
       "3   823.085923  -592.940376 -165.572091  306.296837  -69.867933  1012.740395   \n",
       "4  1057.325178 -1029.965513 -386.387941 -474.653146  143.147534    17.124217   \n",
       "\n",
       "          6           7           8           9    ...        177        178  \\\n",
       "0  223.353000  654.699441  284.169728  200.495125  ... -42.436469  38.644515   \n",
       "1 -313.694307  258.705462 -360.168936 -251.335571  ...  21.729339  51.967370   \n",
       "2 -272.963581  -76.956373  109.972847  -23.027752  ...  -3.820852  44.684383   \n",
       "3 -133.880739  -34.479930   12.906323 -158.113744  ...  55.506988  21.737585   \n",
       "4 -177.609814  -40.151143  518.806548  -85.716816  ...  43.530980   2.660544   \n",
       "\n",
       "         179        180        181        182        183        184  \\\n",
       "0  15.974610 -18.360482 -31.716402 -58.744054 -31.525509  17.666469   \n",
       "1  30.980098 -61.325772  -8.092893 -48.800220  11.925639 -26.394060   \n",
       "2   5.886265  24.918999  35.253455  15.379829 -32.078273  19.471497   \n",
       "3 -52.867262  24.045966 -75.577396  11.929428  31.501251 -36.039384   \n",
       "4 -53.363713  19.373099  36.444743  19.966894  26.720703  68.268379   \n",
       "\n",
       "         185        186  \n",
       "0  10.700451 -54.208245  \n",
       "1 -41.801588 -74.007615  \n",
       "2  23.206138   9.703616  \n",
       "3  12.481911  57.567270  \n",
       "4  14.564382 -37.426796  \n",
       "\n",
       "[5 rows x 187 columns]"
      ]
     },
     "execution_count": 14,
     "metadata": {},
     "output_type": "execute_result"
    }
   ],
   "source": [
    "x_reduced=pd.DataFrame(x_reduced)\n",
    "x_test_reduced=pd.DataFrame(x_test_reduced)\n",
    "x_reduced.head()"
   ]
  },
  {
   "cell_type": "markdown",
   "id": "ada66297",
   "metadata": {},
   "source": [
    "so we got that 187 compomemts explain 95% of the variance\n",
    "\n",
    "### Let's look at the image before and after the pca:"
   ]
  },
  {
   "cell_type": "code",
   "execution_count": 15,
   "id": "55e5fa62",
   "metadata": {
    "scrolled": true
   },
   "outputs": [
    {
     "data": {
      "image/png": "[encoded data removed]",
      "text/plain": [
       "<Figure size 720x720 with 2 Axes>"
      ]
     },
     "metadata": {},
     "output_type": "display_data"
    }
   ],
   "source": [
    "\n",
    "\n",
    "plt.figure(figsize=(10,10))\n",
    "plt.subplot(1,2, 1)\n",
    "plt.xticks([])\n",
    "plt.yticks([])\n",
    "plt.grid(False)\n",
    "plt.title('non-compressed image')\n",
    "plt.imshow(x_train.to_numpy()[1].reshape(28, 28), cmap=\"binary\")\n",
    "\n",
    "\n",
    "plt.subplot(1,2, 2)\n",
    "plt.xticks([])\n",
    "plt.yticks([])\n",
    "plt.grid(False)\n",
    "plt.title('95% variance compressed image')\n",
    "plt.imshow(x_recovered[1].reshape(28, 28), cmap=\"binary\")\n",
    "\n",
    "plt.axis(\"off\")\n",
    "plt.show()"
   ]
  },
  {
   "cell_type": "markdown",
   "id": "3bcab007",
   "metadata": {},
   "source": [
    "### We can still identify that it is a shoe.. let's look for the least components that explain the most variance"
   ]
  },
  {
   "cell_type": "code",
   "execution_count": 16,
   "id": "d8dde0f3",
   "metadata": {},
   "outputs": [
    {
     "data": {
      "text/plain": [
       "[<matplotlib.lines.Line2D at 0x24042890460>]"
      ]
     },
     "execution_count": 16,
     "metadata": {},
     "output_type": "execute_result"
    },
    {
     "data": {
      "image/png": "[encoded data removed]",
      "text/plain": [
       "<Figure size 432x288 with 1 Axes>"
      ]
     },
     "metadata": {
      "needs_background": "light"
     },
     "output_type": "display_data"
    }
   ],
   "source": [
    "plt.plot(pca.explained_variance_ratio_)"
   ]
  },
  {
   "cell_type": "code",
   "execution_count": 17,
   "id": "fc49adae",
   "metadata": {},
   "outputs": [
    {
     "data": {
      "text/plain": [
       "array([0.29011353, 0.17727668, 0.060227  , 0.04970272, 0.03839289,\n",
       "       0.03470997, 0.02344044, 0.01913937, 0.01343605, 0.01310725])"
      ]
     },
     "execution_count": 17,
     "metadata": {},
     "output_type": "execute_result"
    }
   ],
   "source": [
    "pca.explained_variance_ratio_[:10]"
   ]
  },
  {
   "cell_type": "markdown",
   "id": "fe83ed26",
   "metadata": {},
   "source": [
    "Most of the variance lies along the first two components\n",
    "\n",
    "Lets try to reduce the data to 2 and see what happens:\n"
   ]
  },
  {
   "cell_type": "code",
   "execution_count": 18,
   "id": "30b8ba0f",
   "metadata": {},
   "outputs": [],
   "source": [
    "pca_2 = PCA(n_components = 2)\n",
    "x_reduced_2 = pca_2.fit_transform(x_train)\n",
    "x_recovered_2 = pca_2.inverse_transform(x_reduced_2)"
   ]
  },
  {
   "cell_type": "code",
   "execution_count": 19,
   "id": "c899d7b9",
   "metadata": {},
   "outputs": [
    {
     "name": "stdout",
     "output_type": "stream",
     "text": [
      "2 components compressed image\n"
     ]
    },
    {
     "data": {
      "image/png": "[encoded data removed]",
      "text/plain": [
       "<Figure size 432x288 with 1 Axes>"
      ]
     },
     "metadata": {
      "needs_background": "light"
     },
     "output_type": "display_data"
    }
   ],
   "source": [
    "print('2 components compressed image')\n",
    "plt.imshow(x_recovered_2[1].reshape(28, 28), cmap=\"binary\")\n",
    "plt.axis(\"off\")\n",
    "plt.show()"
   ]
  },
  {
   "cell_type": "markdown",
   "id": "3ead79be",
   "metadata": {},
   "source": [
    "so we can see that when we used only the 2 highest components (that explain the data) we got an unrecognizable image. \n",
    "so we will stay with the 187 components- which is still pretty amazing to reduce from 785 pixels of the original images."
   ]
  },
  {
   "cell_type": "markdown",
   "id": "69d75e15",
   "metadata": {},
   "source": [
    "# Models"
   ]
  },
  {
   "cell_type": "markdown",
   "id": "6d5d1d50",
   "metadata": {},
   "source": [
    "## Dummy Model"
   ]
  },
  {
   "cell_type": "markdown",
   "id": "852841a2",
   "metadata": {},
   "source": [
    "Because our data is divided equally between the 10 different labels, the best dummy model will simply say that all the images are one of the 10 labels and will get a 10% accuracy.(we don't think that it is needed to show this in the code because it is too obvious)"
   ]
  },
  {
   "cell_type": "markdown",
   "id": "c0e6289e",
   "metadata": {},
   "source": [
    "# knn"
   ]
  },
  {
   "cell_type": "markdown",
   "id": "f2a8fa39",
   "metadata": {},
   "source": [
    "### KNN with pca reduced data"
   ]
  },
  {
   "cell_type": "code",
   "execution_count": 27,
   "id": "ac06e242",
   "metadata": {},
   "outputs": [],
   "source": [
    "knn=KNeighborsClassifier()"
   ]
  },
  {
   "cell_type": "code",
   "execution_count": 17,
   "id": "78c6ee2a",
   "metadata": {},
   "outputs": [
    {
     "name": "stdout",
     "output_type": "stream",
     "text": [
      "0.8650833333333333\n"
     ]
    }
   ],
   "source": [
    "scores=cross_val_score(knn, x_reduced, y_train, cv=10)\n",
    "knn_score = scores.mean()\n",
    "print(knn_score)"
   ]
  },
  {
   "cell_type": "markdown",
   "id": "b87cd0e6",
   "metadata": {},
   "source": [
    "### Knn with k-means clustring "
   ]
  },
  {
   "cell_type": "code",
   "execution_count": 16,
   "id": "baa39270",
   "metadata": {},
   "outputs": [],
   "source": [
    "knn_k_means=KNeighborsClassifier()"
   ]
  },
  {
   "cell_type": "code",
   "execution_count": 17,
   "id": "54db5537",
   "metadata": {},
   "outputs": [
    {
     "name": "stdout",
     "output_type": "stream",
     "text": [
      "0.7831333333333333\n"
     ]
    }
   ],
   "source": [
    "pipeline=Pipeline([(\"kmeans\", KMeans(n_clusters=20)), (\"knn\", knn_k_means)])\n",
    "scores=cross_val_score(pipeline, x_train, y_train, cv=10)\n",
    "knn_k_means_score = scores.mean()\n",
    "print(knn_k_means_score)"
   ]
  },
  {
   "cell_type": "markdown",
   "id": "289c337d",
   "metadata": {},
   "source": [
    "## Randon forest classifier"
   ]
  },
  {
   "cell_type": "markdown",
   "id": "ca7aa1cc",
   "metadata": {},
   "source": [
    "### Randon forest with pca reduced data"
   ]
  },
  {
   "cell_type": "code",
   "execution_count": 18,
   "id": "8043a65c",
   "metadata": {},
   "outputs": [],
   "source": [
    "rfc=RandomForestClassifier(random_state=42) "
   ]
  },
  {
   "cell_type": "code",
   "execution_count": 19,
   "id": "3157a963",
   "metadata": {},
   "outputs": [
    {
     "name": "stdout",
     "output_type": "stream",
     "text": [
      "0.8641166666666666\n"
     ]
    }
   ],
   "source": [
    "scores=cross_val_score(rfc, x_reduced, y_train, cv=10)\n",
    "rfc_score = scores.mean()\n",
    "print(rfc_score)"
   ]
  },
  {
   "cell_type": "markdown",
   "id": "0a08ea0a",
   "metadata": {},
   "source": [
    "### Random forest with k-means clustring"
   ]
  },
  {
   "cell_type": "code",
   "execution_count": 20,
   "id": "08264d21",
   "metadata": {},
   "outputs": [],
   "source": [
    "rfc_k_means=RandomForestClassifier(random_state=42) "
   ]
  },
  {
   "cell_type": "code",
   "execution_count": 21,
   "id": "e7ff452a",
   "metadata": {},
   "outputs": [
    {
     "name": "stdout",
     "output_type": "stream",
     "text": [
      "0.7961666666666666\n"
     ]
    }
   ],
   "source": [
    "pipeline=Pipeline([(\"kmeans\", KMeans(n_clusters=20)), (\"rfc\", rfc_k_means)])\n",
    "scores=cross_val_score(pipeline, x_train, y_train, cv=10)\n",
    "rfc_k_means_score = scores.mean()\n",
    "print(rfc_k_means_score)"
   ]
  },
  {
   "cell_type": "markdown",
   "id": "da623405",
   "metadata": {},
   "source": [
    "## Naive bayes"
   ]
  },
  {
   "cell_type": "markdown",
   "id": "0943dea6",
   "metadata": {},
   "source": [
    "### Naive Bayes with pca reduced data"
   ]
  },
  {
   "cell_type": "code",
   "execution_count": 51,
   "id": "b3d9c550",
   "metadata": {},
   "outputs": [],
   "source": [
    "gnb = GaussianNB()"
   ]
  },
  {
   "cell_type": "code",
   "execution_count": 52,
   "id": "43940982",
   "metadata": {},
   "outputs": [
    {
     "name": "stdout",
     "output_type": "stream",
     "text": [
      "0.74695\n"
     ]
    }
   ],
   "source": [
    "scores=cross_val_score(gnb, x_reduced, y_train, cv=10)\n",
    "gnb_score = scores.mean()\n",
    "print(gnb_score)"
   ]
  },
  {
   "cell_type": "markdown",
   "id": "b6d672fe",
   "metadata": {},
   "source": [
    "### Naive bayes with k-means clustring "
   ]
  },
  {
   "cell_type": "code",
   "execution_count": 22,
   "id": "b7b18341",
   "metadata": {},
   "outputs": [],
   "source": [
    "gnb_k_means=GaussianNB()"
   ]
  },
  {
   "cell_type": "code",
   "execution_count": 23,
   "id": "ad331dcf",
   "metadata": {},
   "outputs": [
    {
     "name": "stdout",
     "output_type": "stream",
     "text": [
      "0.6206500000000001\n"
     ]
    }
   ],
   "source": [
    "pipeline=Pipeline([(\"kmeans\", KMeans(n_clusters=20)), (\"gnb\", gnb_k_means)])\n",
    "scores=cross_val_score(pipeline, x_train, y_train, cv=10)\n",
    "gnb_k_means_score = scores.mean()\n",
    "print(gnb_k_means_score)"
   ]
  },
  {
   "cell_type": "markdown",
   "id": "92d35aa9",
   "metadata": {},
   "source": [
    "## We see that when we use the models on the k-means method we get much lower scores than the models that are used on the reduced pca data. so from now on we'll continue only with the pca reduced data"
   ]
  },
  {
   "cell_type": "markdown",
   "id": "07de756a",
   "metadata": {},
   "source": [
    "## voting classifier"
   ]
  },
  {
   "cell_type": "markdown",
   "id": "d32c1d94",
   "metadata": {},
   "source": [
    "### we' ll take 3 different models and try an ensamble learning method of voting classifier (hard and soft) to get a better score"
   ]
  },
  {
   "cell_type": "code",
   "execution_count": 53,
   "id": "e173f775",
   "metadata": {},
   "outputs": [],
   "source": [
    "clf1=KNeighborsClassifier()\n",
    "clf2=RandomForestClassifier(random_state=42) \n",
    "clf3=GaussianNB()\n",
    "labels=['Knn','Random forest','Naive Beyes']\n",
    "voting_clf_hard= VotingClassifier(estimators=[(labels[0],clf1),\n",
    "                                            (labels[1],clf2),\n",
    "                                            (labels[2],clf3)],\n",
    "                                 voting='hard')\n",
    "voting_clf_soft= VotingClassifier(estimators=[(labels[0],clf1),\n",
    "                                            (labels[1],clf2),\n",
    "                                            (labels[2],clf3)],\n",
    "                                 voting='soft')"
   ]
  },
  {
   "cell_type": "code",
   "execution_count": 54,
   "id": "3c6356ad",
   "metadata": {},
   "outputs": [
    {
     "name": "stdout",
     "output_type": "stream",
     "text": [
      "Accuracy of Voting Classifier Hard: 0.86405 %\n",
      "Accuracy of Voting Classifier Soft: 0.8481166666666666 %\n"
     ]
    }
   ],
   "source": [
    "voting_clf_scores = []\n",
    "for (clf, label) in zip([voting_clf_hard, voting_clf_soft],['Voting Classifier Hard', 'Voting Classifier Soft']):\n",
    "    scores= cross_val_score(clf,x_reduced,y_train,cv=5,scoring='accuracy')\n",
    "    voting_clf_scores.append(scores.mean())\n",
    "    print('Accuracy of '+ label+':', scores.mean(),'%')\n",
    "\n",
    "voting_clf_hard_score = voting_clf_scores[0]\n",
    "voting_clf_soft_score = voting_clf_scores[1]"
   ]
  },
  {
   "cell_type": "markdown",
   "id": "ea1c97c8",
   "metadata": {},
   "source": [
    "## AdaBoost- using decision tree classifier"
   ]
  },
  {
   "cell_type": "code",
   "execution_count": 22,
   "id": "791c7d77",
   "metadata": {},
   "outputs": [
    {
     "name": "stdout",
     "output_type": "stream",
     "text": [
      "0.5522166666666666\n"
     ]
    }
   ],
   "source": [
    "ada=AdaBoostClassifier(DecisionTreeClassifier(max_depth=1), n_estimators=500, algorithm=\"SAMME.R\", learning_rate=0.3)\n",
    "scores=cross_val_score(ada, x_reduced, y_train, cv=10)\n",
    "ada_score = scores.mean()\n",
    "print(ada_score)"
   ]
  },
  {
   "cell_type": "markdown",
   "id": "aadbda0b",
   "metadata": {},
   "source": [
    "## The best score is with the knn model..let's try to tweak the K neighbors to get an even better score"
   ]
  },
  {
   "cell_type": "code",
   "execution_count": 25,
   "id": "48921539",
   "metadata": {},
   "outputs": [],
   "source": [
    "k_range = list(range(1,31))"
   ]
  },
  {
   "cell_type": "code",
   "execution_count": 28,
   "id": "129da1cd",
   "metadata": {},
   "outputs": [],
   "source": [
    "param_grid = dict(n_neighbors=k_range)\n",
    "grid=GridSearchCV(knn, param_grid, cv=10, scoring='accuracy')"
   ]
  },
  {
   "cell_type": "code",
   "execution_count": 29,
   "id": "04e927f7",
   "metadata": {},
   "outputs": [
    {
     "data": {
      "text/plain": [
       "GridSearchCV(cv=10, estimator=KNeighborsClassifier(),\n",
       "             param_grid={'n_neighbors': [1, 2, 3, 4, 5, 6, 7, 8, 9, 10, 11, 12,\n",
       "                                         13, 14, 15, 16, 17, 18, 19, 20, 21, 22,\n",
       "                                         23, 24, 25, 26, 27, 28, 29, 30]},\n",
       "             scoring='accuracy')"
      ]
     },
     "execution_count": 29,
     "metadata": {},
     "output_type": "execute_result"
    }
   ],
   "source": [
    "grid.fit(x_reduced,y_train)"
   ]
  },
  {
   "cell_type": "code",
   "execution_count": 30,
   "id": "3cdb74ba",
   "metadata": {},
   "outputs": [
    {
     "name": "stdout",
     "output_type": "stream",
     "text": [
      "4\n",
      "{'n_neighbors': 5}\n"
     ]
    }
   ],
   "source": [
    "print(grid.best_index_)\n",
    "print(grid.best_params_)"
   ]
  },
  {
   "cell_type": "markdown",
   "id": "3777aedf",
   "metadata": {},
   "source": [
    "## So we found that the best k is 5 - the same as the defult hyperparameter.."
   ]
  },
  {
   "cell_type": "markdown",
   "id": "60757408",
   "metadata": {},
   "source": [
    "## Let's run the test set with our best hyperparameters to get the real score"
   ]
  },
  {
   "cell_type": "code",
   "execution_count": 32,
   "id": "f3f6a6f2",
   "metadata": {},
   "outputs": [
    {
     "data": {
      "text/plain": [
       "0.868"
      ]
     },
     "execution_count": 32,
     "metadata": {},
     "output_type": "execute_result"
    }
   ],
   "source": [
    "knn.fit(x_reduced, y_train)\n",
    "knn.score(x_test_reduced, y_test)"
   ]
  },
  {
   "cell_type": "markdown",
   "id": "04d4ef7e",
   "metadata": {},
   "source": [
    "# Wow!! we got a 86% accuracy that's so awesome!!!:)\n",
    "## (and without image processing methods) "
   ]
  },
  {
   "cell_type": "markdown",
   "id": "2a67a495",
   "metadata": {},
   "source": [
    "# In conclusion:\n",
    "\n",
    "## we pre-processed our data, tried a couple models, used kmeans and pca method, and different ensemble learning methods and tweaked the hyperparameter to get the best score.\n",
    "\n",
    "## We see that we got a much higher score than the \"cats and dogs\" project even though we didn't use here image processing methods. we think that it's because the images in the fashion mnist data are much simpler than the images of the \"cats and dogs\" data (that are actually pictures and not a computer illustration)"
   ]
  }
 ],
 "metadata": {
  "kernelspec": {
   "display_name": "Python 3 (ipykernel)",
   "language": "python",
   "name": "python3"
  },
  "language_info": {
   "codemirror_mode": {
    "name": "ipython",
    "version": 3
   },
   "file_extension": ".py",
   "mimetype": "text/x-python",
   "name": "python",
   "nbconvert_exporter": "python",
   "pygments_lexer": "ipython3",
   "version": "3.8.12"
  }
 },
 "nbformat": 4,
 "nbformat_minor": 5
}
